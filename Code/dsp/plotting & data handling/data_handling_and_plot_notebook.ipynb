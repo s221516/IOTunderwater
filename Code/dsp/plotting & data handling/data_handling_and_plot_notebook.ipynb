{
 "cells": [
  {
   "cell_type": "code",
   "execution_count": 29,
   "id": "59948cfb",
   "metadata": {},
   "outputs": [
    {
     "name": "stdout",
     "output_type": "stream",
     "text": [
      "/Users/mathiasmarkvardsen/bachelor/IOTunderwater/Code/dsp/plotting & data handling\n"
     ]
    }
   ],
   "source": [
    "import pandas as pd\n",
    "import numpy as np\n",
    "import os\n",
    "import sys\n",
    "\n",
    "fileDir = os.path.dirname(os.path.realpath('__file__'))\n",
    "print(fileDir)\n",
    "file = \"../../../Received_data_for_tests.csv\""
   ]
  },
  {
   "cell_type": "code",
   "execution_count": 30,
   "id": "6c8d8692",
   "metadata": {},
   "outputs": [
    {
     "data": {
      "application/vnd.microsoft.datawrangler.viewer.v0+json": {
       "columns": [
        {
         "name": "index",
         "rawType": "int64",
         "type": "integer"
        },
        {
         "name": "ID",
         "rawType": "object",
         "type": "string"
        },
        {
         "name": "Bitrate",
         "rawType": "int64",
         "type": "integer"
        },
        {
         "name": "Carrier Frequency",
         "rawType": "int64",
         "type": "integer"
        },
        {
         "name": "Original Message",
         "rawType": "object",
         "type": "string"
        },
        {
         "name": "Decoded without bandpass",
         "rawType": "object",
         "type": "string"
        },
        {
         "name": "Hamming Dist without bandpass",
         "rawType": "float64",
         "type": "float"
        },
        {
         "name": "Decoded with bandpass",
         "rawType": "object",
         "type": "string"
        },
        {
         "name": "Hamming Dist with bandpass",
         "rawType": "float64",
         "type": "float"
        },
        {
         "name": "Encoding",
         "rawType": "object",
         "type": "string"
        },
        {
         "name": "Transmitter",
         "rawType": "object",
         "type": "string"
        },
        {
         "name": "Container",
         "rawType": "object",
         "type": "string"
        },
        {
         "name": "Speaker depth",
         "rawType": "int64",
         "type": "integer"
        },
        {
         "name": "Distance to speaker",
         "rawType": "int64",
         "type": "integer"
        },
        {
         "name": "Test description",
         "rawType": "object",
         "type": "string"
        },
        {
         "name": "Original message in bits",
         "rawType": "object",
         "type": "string"
        },
        {
         "name": "Data bits without bandpass",
         "rawType": "object",
         "type": "unknown"
        },
        {
         "name": "Data bits with bandpass",
         "rawType": "object",
         "type": "unknown"
        }
       ],
       "conversionMethod": "pd.DataFrame",
       "ref": "93fdc75a-a484-4481-a5ae-18b71c7cbcb3",
       "rows": [
        [
         "15",
         "2511c487-c2e7-4ec3-b655-b15b5aadcf32",
         "100",
         "6000",
         "Hello_there",
         "Hello_there",
         "0.0",
         "Hello_t`%re",
         "2.0",
         "No Encoding",
         "ESP",
         "plastic",
         "200",
         "600",
         "EXAMPLE 2: test 2",
         "[0, 1, 0, 0, 1, 0, 0, 0, 0, 1, 1, 0, 0, 1, 0, 1, 0, 1, 1, 0, 1, 1, 0, 0, 0, 1, 1, 0, 1, 1, 0, 0, 0, 1, 1, 0, 1, 1, 1, 1, 0, 1, 0, 1, 1, 1, 1, 1, 0, 1, 1, 1, 0, 1, 0, 0, 0, 1, 1, 0, 1, 0, 0, 0, 0, 1, 1, 0, 0, 1, 0, 1, 0, 1, 1, 1, 0, 0, 1, 0, 0, 1, 1, 0, 0, 1, 0, 1]",
         "[[0, 1, 0, 0, 1, 0, 0, 0, 0, 1, 1, 0, 0, 1, 0, 1, 0, 1, 1, 0, 1, 1, 0, 0, 0, 1, 1, 0, 1, 1, 0, 0, 0, 1, 1, 0, 1, 1, 1, 1, 0, 1, 0, 1, 1, 1, 1, 1, 0, 1, 1, 1, 0, 1, 0, 0, 0, 1, 1, 0, 1, 0, 0, 0, 0, 1, 1, 0, 0, 1, 0, 1, 0, 1, 1, 1, 0, 0, 1, 0, 0, 1, 1, 0, 0, 0, 0, 0], [0, 1, 0, 0, 1, 0, 0, 0, 0, 1, 1, 0, 0, 1, 0, 1, 0, 1, 1, 0, 1, 1, 0, 0, 0, 1, 1, 0, 1, 1, 0, 0, 0, 1, 1, 0, 1, 1, 1, 1, 0, 1, 0, 1, 1, 1, 1, 1, 0, 1, 1, 1, 0, 1, 0, 0, 0, 1, 1, 0, 1, 0, 0, 0, 0, 1, 1, 0, 0, 1, 0, 1, 0, 1, 1, 1, 0, 0, 1, 0, 0, 1, 1, 0, 0, 1, 0, 1], [0, 1, 0, 0, 1, 0, 0, 0, 0, 0, 0, 0, 0, 0, 0, 0, 0, 0, 0, 0, 0, 0, 0, 0, 0, 0, 1, 0, 1, 1, 0, 0, 0, 1, 1, 0, 1, 1, 1, 1, 0, 1, 0, 1, 1, 1, 1, 1, 0, 1, 1, 1, 0, 1, 0, 0, 0, 1, 1, 0, 1, 0, 0, 0, 0, 1, 1, 0, 0, 1, 0, 1, 0, 1, 1, 1, 0, 0, 1, 0, 0, 1, 1, 0, 0, 1, 0, 1], [0, 1, 0, 0, 1, 0, 0, 0, 0, 1, 1, 0, 0, 1, 0, 1, 0, 1, 1, 0, 1, 1, 0, 0, 0, 1, 1, 0, 1, 1, 0, 0, 0, 1, 1, 0, 0, 1, 1, 1, 0, 1, 0, 1, 1, 1, 1, 1, 0, 1, 1, 1, 0, 1, 0, 0, 0, 1, 1, 0, 1, 0, 0, 0, 0, 1, 1, 0, 0, 1, 0, 1, 0, 1, 1, 1, 0, 0, 1, 0, 0, 1, 1, 0, 0, 1, 0, 1]]",
         "[[0, 1, 0, 0, 1, 0, 0, 0, 0, 1, 1, 0, 0, 1, 0, 1, 0, 1, 1, 0, 1, 1, 0, 0, 0, 1, 1, 0, 1, 1, 0, 0, 0, 1, 1, 0, 1, 1, 1, 1, 0, 1, 0, 1, 0, 0, 0, 1, 0, 1, 1, 1, 0, 1, 0, 0, 0, 1, 1, 0, 1, 0, 0, 0, 0, 0, 1, 0, 0, 1, 0, 1, 0, 1, 1, 1, 0, 0, 1, 0, 0, 1, 1, 0, 0, 0, 0, 1], [0, 1, 0, 0, 1, 0, 0, 0, 0, 1, 1, 0, 0, 1, 0, 1, 0, 1, 1, 0, 1, 1, 0, 0, 0, 1, 1, 0, 1, 1, 0, 0, 0, 1, 1, 0, 1, 1, 1, 1, 0, 1, 0, 1, 1, 1, 1, 1, 0, 1, 1, 1, 0, 0, 0, 0, 0, 0, 1, 0, 0, 0, 0, 0, 0, 1, 1, 0, 0, 1, 0, 1, 0, 1, 1, 1, 0, 0, 1, 0, 0, 1, 1, 0, 0, 1, 0, 1], [0, 1, 0, 0, 1, 0, 0, 0, 0, 0, 0, 0, 0, 0, 0, 0, 0, 0, 0, 0, 0, 0, 0, 0, 0, 0, 1, 0, 1, 1, 0, 0, 0, 1, 1, 0, 1, 1, 1, 1, 0, 1, 0, 1, 1, 1, 1, 1, 0, 1, 1, 1, 0, 1, 0, 0, 0, 1, 1, 0, 1, 0, 0, 0, 0, 1, 1, 0, 0, 1, 0, 1, 0, 1, 1, 1, 0, 0, 1, 0, 0, 1, 1, 0, 0, 1, 0, 1], [0, 1, 0, 0, 1, 0, 0, 0, 0, 1, 1, 0, 0, 1, 0, 1, 0, 1, 1, 0, 1, 1, 0, 0, 0, 1, 1, 0, 1, 1, 0, 0, 0, 1, 1, 0, 1, 1, 1, 1, 0, 1, 0, 1, 1, 1, 1, 1, 0, 1, 1, 1, 0, 1, 0, 0, 0, 1, 1, 0, 0, 0, 0, 0, 0, 0, 1, 0, 0, 0, 0, 0, 0, 1, 1, 1, 0, 0, 1, 0, 0, 1, 1, 0, 0, 1, 0, 1]]"
        ],
        [
         "16",
         "1b7c3894-23bf-441c-b4cb-b1686caa48e4",
         "100",
         "6000",
         "Hello_there",
         "No preamble found",
         null,
         "No preamble found",
         null,
         "No Encoding",
         "ESP",
         "plastic",
         "200",
         "600",
         "EXAMPLE 2: test 2",
         "[0, 1, 0, 0, 1, 0, 0, 0, 0, 1, 1, 0, 0, 1, 0, 1, 0, 1, 1, 0, 1, 1, 0, 0, 0, 1, 1, 0, 1, 1, 0, 0, 0, 1, 1, 0, 1, 1, 1, 1, 0, 1, 0, 1, 1, 1, 1, 1, 0, 1, 1, 1, 0, 1, 0, 0, 0, 1, 1, 0, 1, 0, 0, 0, 0, 1, 1, 0, 0, 1, 0, 1, 0, 1, 1, 1, 0, 0, 1, 0, 0, 1, 1, 0, 0, 1, 0, 1]",
         null,
         null
        ]
       ],
       "shape": {
        "columns": 17,
        "rows": 2
       }
      },
      "text/html": [
       "<div>\n",
       "<style scoped>\n",
       "    .dataframe tbody tr th:only-of-type {\n",
       "        vertical-align: middle;\n",
       "    }\n",
       "\n",
       "    .dataframe tbody tr th {\n",
       "        vertical-align: top;\n",
       "    }\n",
       "\n",
       "    .dataframe thead th {\n",
       "        text-align: right;\n",
       "    }\n",
       "</style>\n",
       "<table border=\"1\" class=\"dataframe\">\n",
       "  <thead>\n",
       "    <tr style=\"text-align: right;\">\n",
       "      <th></th>\n",
       "      <th>ID</th>\n",
       "      <th>Bitrate</th>\n",
       "      <th>Carrier Frequency</th>\n",
       "      <th>Original Message</th>\n",
       "      <th>Decoded without bandpass</th>\n",
       "      <th>Hamming Dist without bandpass</th>\n",
       "      <th>Decoded with bandpass</th>\n",
       "      <th>Hamming Dist with bandpass</th>\n",
       "      <th>Encoding</th>\n",
       "      <th>Transmitter</th>\n",
       "      <th>Container</th>\n",
       "      <th>Speaker depth</th>\n",
       "      <th>Distance to speaker</th>\n",
       "      <th>Test description</th>\n",
       "      <th>Original message in bits</th>\n",
       "      <th>Data bits without bandpass</th>\n",
       "      <th>Data bits with bandpass</th>\n",
       "    </tr>\n",
       "  </thead>\n",
       "  <tbody>\n",
       "    <tr>\n",
       "      <th>15</th>\n",
       "      <td>2511c487-c2e7-4ec3-b655-b15b5aadcf32</td>\n",
       "      <td>100</td>\n",
       "      <td>6000</td>\n",
       "      <td>Hello_there</td>\n",
       "      <td>Hello_there</td>\n",
       "      <td>0.0</td>\n",
       "      <td>Hello_t`%re</td>\n",
       "      <td>2.0</td>\n",
       "      <td>No Encoding</td>\n",
       "      <td>ESP</td>\n",
       "      <td>plastic</td>\n",
       "      <td>200</td>\n",
       "      <td>600</td>\n",
       "      <td>EXAMPLE 2: test 2</td>\n",
       "      <td>[0, 1, 0, 0, 1, 0, 0, 0, 0, 1, 1, 0, 0, 1, 0, ...</td>\n",
       "      <td>[[0, 1, 0, 0, 1, 0, 0, 0, 0, 1, 1, 0, 0, 1, 0,...</td>\n",
       "      <td>[[0, 1, 0, 0, 1, 0, 0, 0, 0, 1, 1, 0, 0, 1, 0,...</td>\n",
       "    </tr>\n",
       "    <tr>\n",
       "      <th>16</th>\n",
       "      <td>1b7c3894-23bf-441c-b4cb-b1686caa48e4</td>\n",
       "      <td>100</td>\n",
       "      <td>6000</td>\n",
       "      <td>Hello_there</td>\n",
       "      <td>No preamble found</td>\n",
       "      <td>NaN</td>\n",
       "      <td>No preamble found</td>\n",
       "      <td>NaN</td>\n",
       "      <td>No Encoding</td>\n",
       "      <td>ESP</td>\n",
       "      <td>plastic</td>\n",
       "      <td>200</td>\n",
       "      <td>600</td>\n",
       "      <td>EXAMPLE 2: test 2</td>\n",
       "      <td>[0, 1, 0, 0, 1, 0, 0, 0, 0, 1, 1, 0, 0, 1, 0, ...</td>\n",
       "      <td>NaN</td>\n",
       "      <td>NaN</td>\n",
       "    </tr>\n",
       "  </tbody>\n",
       "</table>\n",
       "</div>"
      ],
      "text/plain": [
       "                                      ID  Bitrate  Carrier Frequency  \\\n",
       "15  2511c487-c2e7-4ec3-b655-b15b5aadcf32      100               6000   \n",
       "16  1b7c3894-23bf-441c-b4cb-b1686caa48e4      100               6000   \n",
       "\n",
       "   Original Message Decoded without bandpass  Hamming Dist without bandpass  \\\n",
       "15      Hello_there              Hello_there                            0.0   \n",
       "16      Hello_there        No preamble found                            NaN   \n",
       "\n",
       "   Decoded with bandpass  Hamming Dist with bandpass     Encoding Transmitter  \\\n",
       "15           Hello_t`%re                         2.0  No Encoding         ESP   \n",
       "16     No preamble found                         NaN  No Encoding         ESP   \n",
       "\n",
       "   Container  Speaker depth  Distance to speaker   Test description  \\\n",
       "15   plastic            200                  600  EXAMPLE 2: test 2   \n",
       "16   plastic            200                  600  EXAMPLE 2: test 2   \n",
       "\n",
       "                             Original message in bits  \\\n",
       "15  [0, 1, 0, 0, 1, 0, 0, 0, 0, 1, 1, 0, 0, 1, 0, ...   \n",
       "16  [0, 1, 0, 0, 1, 0, 0, 0, 0, 1, 1, 0, 0, 1, 0, ...   \n",
       "\n",
       "                           Data bits without bandpass  \\\n",
       "15  [[0, 1, 0, 0, 1, 0, 0, 0, 0, 1, 1, 0, 0, 1, 0,...   \n",
       "16                                                NaN   \n",
       "\n",
       "                              Data bits with bandpass  \n",
       "15  [[0, 1, 0, 0, 1, 0, 0, 0, 0, 1, 1, 0, 0, 1, 0,...  \n",
       "16                                                NaN  "
      ]
     },
     "execution_count": 30,
     "metadata": {},
     "output_type": "execute_result"
    }
   ],
   "source": [
    "df = pd.read_csv(file, sep=',')\n",
    "df.tail(2)"
   ]
  },
  {
   "cell_type": "code",
   "execution_count": 31,
   "id": "73b0ca92",
   "metadata": {},
   "outputs": [
    {
     "name": "stdout",
     "output_type": "stream",
     "text": [
      "Available columns:\n",
      "['ID', 'Bitrate', 'Carrier Frequency', 'Original Message', 'Decoded without bandpass', 'Hamming Dist without bandpass', 'Decoded with bandpass', 'Hamming Dist with bandpass', 'Encoding', 'Transmitter', 'Container', 'Speaker depth', 'Distance to speaker', 'Test description', 'Original message in bits', 'Data bits without bandpass', 'Data bits with bandpass']\n",
      "Total number of tests: 17\n",
      "Number of unique test descriptions: 2\n"
     ]
    },
    {
     "data": {
      "application/vnd.microsoft.datawrangler.viewer.v0+json": {
       "columns": [
        {
         "name": "index",
         "rawType": "int64",
         "type": "integer"
        },
        {
         "name": "Test Description",
         "rawType": "object",
         "type": "string"
        },
        {
         "name": "Test Count",
         "rawType": "int64",
         "type": "integer"
        },
        {
         "name": "Avg Flips No Bandpass",
         "rawType": "float64",
         "type": "float"
        },
        {
         "name": "Avg Flips With Bandpass",
         "rawType": "float64",
         "type": "float"
        },
        {
         "name": "Common Flips No Bandpass",
         "rawType": "object",
         "type": "unknown"
        },
        {
         "name": "Common Flips With Bandpass",
         "rawType": "object",
         "type": "unknown"
        }
       ],
       "conversionMethod": "pd.DataFrame",
       "ref": "e194691d-3d2d-4217-b195-a47538b08243",
       "rows": [
        [
         "0",
         "EXAMPLE 2: test 2",
         "10",
         "0.0",
         "0.0",
         "[]",
         "[]"
        ],
        [
         "1",
         "EXAMPLE : This test aims to create a function of Bit error rates over bit rate",
         "7",
         "0.0",
         "0.0",
         "[]",
         "[]"
        ]
       ],
       "shape": {
        "columns": 6,
        "rows": 2
       }
      },
      "text/html": [
       "<div>\n",
       "<style scoped>\n",
       "    .dataframe tbody tr th:only-of-type {\n",
       "        vertical-align: middle;\n",
       "    }\n",
       "\n",
       "    .dataframe tbody tr th {\n",
       "        vertical-align: top;\n",
       "    }\n",
       "\n",
       "    .dataframe thead th {\n",
       "        text-align: right;\n",
       "    }\n",
       "</style>\n",
       "<table border=\"1\" class=\"dataframe\">\n",
       "  <thead>\n",
       "    <tr style=\"text-align: right;\">\n",
       "      <th></th>\n",
       "      <th>Test Description</th>\n",
       "      <th>Test Count</th>\n",
       "      <th>Avg Flips No Bandpass</th>\n",
       "      <th>Avg Flips With Bandpass</th>\n",
       "      <th>Common Flips No Bandpass</th>\n",
       "      <th>Common Flips With Bandpass</th>\n",
       "    </tr>\n",
       "  </thead>\n",
       "  <tbody>\n",
       "    <tr>\n",
       "      <th>0</th>\n",
       "      <td>EXAMPLE 2: test 2</td>\n",
       "      <td>10</td>\n",
       "      <td>0.0</td>\n",
       "      <td>0.0</td>\n",
       "      <td>[]</td>\n",
       "      <td>[]</td>\n",
       "    </tr>\n",
       "    <tr>\n",
       "      <th>1</th>\n",
       "      <td>EXAMPLE : This test aims to create a function ...</td>\n",
       "      <td>7</td>\n",
       "      <td>0.0</td>\n",
       "      <td>0.0</td>\n",
       "      <td>[]</td>\n",
       "      <td>[]</td>\n",
       "    </tr>\n",
       "  </tbody>\n",
       "</table>\n",
       "</div>"
      ],
      "text/plain": [
       "                                    Test Description  Test Count  \\\n",
       "0                                  EXAMPLE 2: test 2          10   \n",
       "1  EXAMPLE : This test aims to create a function ...           7   \n",
       "\n",
       "   Avg Flips No Bandpass  Avg Flips With Bandpass Common Flips No Bandpass  \\\n",
       "0                    0.0                      0.0                       []   \n",
       "1                    0.0                      0.0                       []   \n",
       "\n",
       "  Common Flips With Bandpass  \n",
       "0                         []  \n",
       "1                         []  "
      ]
     },
     "execution_count": 31,
     "metadata": {},
     "output_type": "execute_result"
    }
   ],
   "source": [
    "# Display the columns to verify we have test description and bits data\n",
    "print(\"Available columns:\")\n",
    "print(df.columns.tolist())\n",
    "\n",
    "# Basic statistics about the dataset\n",
    "print(f\"Total number of tests: {len(df)}\")\n",
    "print(f\"Number of unique test descriptions: {df['Test description'].nunique()}\")\n",
    "\n",
    "# Group by test description\n",
    "grouped = df.groupby('Test description')\n",
    "\n",
    "# Function to analyze bit flips between original and decoded bits\n",
    "def analyze_bit_flips(original, decoded):\n",
    "    # Convert to strings if they aren't already\n",
    "    original = str(original)\n",
    "    decoded = str(decoded)\n",
    "    \n",
    "    # Make strings equal length by padding\n",
    "    max_len = max(len(original), len(decoded))\n",
    "    original = original.zfill(max_len)\n",
    "    decoded = decoded.zfill(max_len)\n",
    "    \n",
    "    # Compare bits\n",
    "    flips = []\n",
    "    for i, (orig, dec) in enumerate(zip(original, decoded)):\n",
    "        if orig != dec:\n",
    "            flips.append((i, orig, dec))\n",
    "    \n",
    "    return flips\n",
    "\n",
    "# Create a summary dataframe for bit flip analysis\n",
    "results = []\n",
    "\n",
    "for name, group in grouped:\n",
    "    # Count total tests in this group\n",
    "    test_count = len(group)\n",
    "    \n",
    "    # Analyze without bandpass\n",
    "    total_flips_no_bp = 0\n",
    "    flip_positions_no_bp = {}\n",
    "    \n",
    "    # Analyze with bandpass\n",
    "    total_flips_with_bp = 0\n",
    "    flip_positions_with_bp = {}\n",
    "    \n",
    "    for _, row in group.iterrows():\n",
    "        # Without bandpass\n",
    "        if 'Original bits' in df.columns and 'Decoded bits without bandpass' in df.columns:\n",
    "            flips = analyze_bit_flips(row['Original bits'], row['Decoded bits without bandpass'])\n",
    "            total_flips_no_bp += len(flips)\n",
    "            for pos, orig, dec in flips:\n",
    "                key = f\"Pos {pos}: {orig}->{dec}\"\n",
    "                flip_positions_no_bp[key] = flip_positions_no_bp.get(key, 0) + 1\n",
    "        \n",
    "        # With bandpass\n",
    "        if 'Original bits' in df.columns and 'Decoded bits with bandpass' in df.columns:\n",
    "            flips = analyze_bit_flips(row['Original bits'], row['Decoded bits with bandpass'])\n",
    "            total_flips_with_bp += len(flips)\n",
    "            for pos, orig, dec in flips:\n",
    "                key = f\"Pos {pos}: {orig}->{dec}\"\n",
    "                flip_positions_with_bp[key] = flip_positions_with_bp.get(key, 0) + 1\n",
    "    \n",
    "    # Calculate averages and add to results\n",
    "    avg_flips_no_bp = total_flips_no_bp / test_count if test_count > 0 else 0\n",
    "    avg_flips_with_bp = total_flips_with_bp / test_count if test_count > 0 else 0\n",
    "    \n",
    "    # Get most common flip patterns\n",
    "    common_flips_no_bp = sorted(flip_positions_no_bp.items(), key=lambda x: x[1], reverse=True)[:5]\n",
    "    common_flips_with_bp = sorted(flip_positions_with_bp.items(), key=lambda x: x[1], reverse=True)[:5]\n",
    "    \n",
    "    results.append({\n",
    "        'Test Description': name,\n",
    "        'Test Count': test_count,\n",
    "        'Avg Flips No Bandpass': avg_flips_no_bp,\n",
    "        'Avg Flips With Bandpass': avg_flips_with_bp,\n",
    "        'Common Flips No Bandpass': common_flips_no_bp,\n",
    "        'Common Flips With Bandpass': common_flips_with_bp\n",
    "    })\n",
    "\n",
    "# Convert to DataFrame for easy viewing\n",
    "results_df = pd.DataFrame(results)\n",
    "results_df"
   ]
  },
  {
   "cell_type": "code",
   "execution_count": 32,
   "id": "e9fc549f",
   "metadata": {},
   "outputs": [
    {
     "data": {
      "image/png": "[encoded data removed]",
      "text/plain": [
       "<Figure size 1500x1000 with 1 Axes>"
      ]
     },
     "metadata": {},
     "output_type": "display_data"
    }
   ],
   "source": [
    "import matplotlib.pyplot as plt\n",
    "import seaborn as sns\n",
    "\n",
    "# Set up the figure\n",
    "plt.figure(figsize=(15, 10))\n",
    "\n",
    "# Plot average bit flips by test description\n",
    "plt.subplot(2, 1, 1)\n",
    "x = range(len(results_df))\n",
    "plt.bar(x, results_df['Avg Flips No Bandpass'], width=0.4, align='edge', label='Without Bandpass')\n",
    "plt.bar([i+0.4 for i in x], results_df['Avg Flips With Bandpass'], width=0.4, align='edge', label='With Bandpass')\n",
    "plt.xticks([i+0.2 for i in x], results_df['Test Description'], rotation=45, ha='right')\n",
    "plt.ylabel('Average Number of Bit Flips')\n",
    "plt.title('Average Bit Flips by Test Description')\n",
    "plt.legend()\n",
    "plt.tight_layout()\n",
    "\n",
    "# Create a heatmap to visualize bit error patterns for a specific test\n",
    "if len(grouped) > 0:\n",
    "    # Select a test description to visualize (you can change this to any group)\n",
    "    test_desc = results_df['Test Description'].iloc[0]\n",
    "    group_data = grouped.get_group(test_desc)\n",
    "    \n",
    "    if 'Original bits' in df.columns and 'Decoded bits without bandpass' in df.columns:\n",
    "        plt.subplot(2, 1, 2)\n",
    "        \n",
    "        # Create a binary matrix of bit flips (1 = flip, 0 = no flip)\n",
    "        max_len = max(group_data['Original bits'].apply(len).max(), \n",
    "                      group_data['Decoded bits without bandpass'].apply(len).max())\n",
    "        \n",
    "        flip_matrix = np.zeros((len(group_data), max_len))\n",
    "        \n",
    "        for i, (_, row) in enumerate(group_data.iterrows()):\n",
    "            original = str(row['Original bits']).zfill(max_len)\n",
    "            decoded = str(row['Decoded bits without bandpass']).zfill(max_len)\n",
    "            \n",
    "            for j, (o, d) in enumerate(zip(original, decoded)):\n",
    "                flip_matrix[i, j] = 1 if o != d else 0\n",
    "        \n",
    "        sns.heatmap(flip_matrix, cmap='YlOrRd', cbar_kws={'label': 'Bit Flip (1=Flipped)'})\n",
    "        plt.xlabel('Bit Position')\n",
    "        plt.ylabel('Test Sample')\n",
    "        plt.title(f'Bit Flip Pattern for Test Description: {test_desc}')\n",
    "\n",
    "plt.tight_layout()\n",
    "plt.show()\n",
    "\n",
    "# Calculate bit error rate by position across all tests\n",
    "if 'Original bits' in df.columns:\n",
    "    # Determine the maximum bit length across all samples\n",
    "    max_bit_len = 0\n",
    "    if 'Original bits' in df.columns:\n",
    "        max_bit_len = max(max_bit_len, df['Original bits'].apply(lambda x: len(str(x))).max())\n",
    "    \n",
    "    # Initialize arrays for counting errors by position\n",
    "    errors_by_pos_no_bp = np.zeros(max_bit_len)\n",
    "    errors_by_pos_with_bp = np.zeros(max_bit_len)\n",
    "    total_by_pos = np.zeros(max_bit_len)\n",
    "    \n",
    "    # Count errors by bit position\n",
    "    for _, row in df.iterrows():\n",
    "        if 'Original bits' in df.columns:\n",
    "            original = str(row['Original bits']).zfill(max_bit_len)\n",
    "            \n",
    "            # Without bandpass\n",
    "            if 'Decoded bits without bandpass' in df.columns:\n",
    "                decoded = str(row['Decoded bits without bandpass']).zfill(max_bit_len)\n",
    "                for i, (o, d) in enumerate(zip(original, decoded)):\n",
    "                    if i < max_bit_len:\n",
    "                        total_by_pos[i] += 1\n",
    "                        errors_by_pos_no_bp[i] += (1 if o != d else 0)\n",
    "            \n",
    "            # With bandpass\n",
    "            if 'Decoded bits with bandpass' in df.columns:\n",
    "                decoded = str(row['Decoded bits with bandpass']).zfill(max_bit_len)\n",
    "                for i, (o, d) in enumerate(zip(original, decoded)):\n",
    "                    if i < max_bit_len:\n",
    "                        errors_by_pos_with_bp[i] += (1 if o != d else 0)\n",
    "    \n",
    "    # Calculate error rates\n",
    "    error_rate_no_bp = np.divide(errors_by_pos_no_bp, total_by_pos, where=total_by_pos>0)\n",
    "    error_rate_with_bp = np.divide(errors_by_pos_with_bp, total_by_pos, where=total_by_pos>0)\n",
    "    \n",
    "    # Plot error rates by bit position\n",
    "    plt.figure(figsize=(15, 6))\n",
    "    plt.plot(range(max_bit_len), error_rate_no_bp, 'o-', label='Without Bandpass')\n",
    "    plt.plot(range(max_bit_len), error_rate_with_bp, 'o-', label='With Bandpass')\n",
    "    plt.xlabel('Bit Position')\n",
    "    plt.ylabel('Error Rate')\n",
    "    plt.title('Bit Error Rate by Position')\n",
    "    plt.legend()\n",
    "    plt.grid(True)\n",
    "    plt.show()"
   ]
  },
  {
   "cell_type": "code",
   "execution_count": null,
   "id": "f209941c",
   "metadata": {},
   "outputs": [],
   "source": []
  }
 ],
 "metadata": {
  "kernelspec": {
   "display_name": "bsc_env",
   "language": "python",
   "name": "python3"
  },
  "language_info": {
   "codemirror_mode": {
    "name": "ipython",
    "version": 3
   },
   "file_extension": ".py",
   "mimetype": "text/x-python",
   "name": "python",
   "nbconvert_exporter": "python",
   "pygments_lexer": "ipython3",
   "version": "3.11.11"
  }
 },
 "nbformat": 4,
 "nbformat_minor": 5
}
